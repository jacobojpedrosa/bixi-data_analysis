{
 "cells": [
  {
   "cell_type": "code",
   "execution_count": 2,
   "metadata": {},
   "outputs": [],
   "source": [
    "import pyspark\n",
    "import os.path"
   ]
  },
  {
   "cell_type": "code",
   "execution_count": 3,
   "metadata": {},
   "outputs": [],
   "source": [
    "sc = pyspark.SparkContext(master=\"local[1]\",appName='metyis_challenge')"
   ]
  },
  {
   "cell_type": "code",
   "execution_count": 4,
   "metadata": {},
   "outputs": [],
   "source": [
    "from pyspark.sql import SQLContext\n",
    "sqlContext = SQLContext(sc)"
   ]
  },
  {
   "cell_type": "code",
   "execution_count": 152,
   "metadata": {},
   "outputs": [
    {
     "ename": "NameError",
     "evalue": "name 'DateTimeType' is not defined",
     "output_type": "error",
     "traceback": [
      "\u001b[0;31m---------------------------------------------------------------------------\u001b[0m",
      "\u001b[0;31mNameError\u001b[0m                                 Traceback (most recent call last)",
      "\u001b[0;32m<ipython-input-152-3e9d25849133>\u001b[0m in \u001b[0;36m<module>\u001b[0;34m\u001b[0m\n\u001b[1;32m      4\u001b[0m bixiSchema = StructType([ \\\n\u001b[1;32m      5\u001b[0m                 \u001b[0mStructField\u001b[0m\u001b[0;34m(\u001b[0m\u001b[0;34m\"_c0\"\u001b[0m\u001b[0;34m,\u001b[0m \u001b[0mDoubleType\u001b[0m\u001b[0;34m(\u001b[0m\u001b[0;34m)\u001b[0m\u001b[0;34m,\u001b[0m \u001b[0;32mTrue\u001b[0m\u001b[0;34m)\u001b[0m\u001b[0;34m,\u001b[0m\u001b[0;31m \u001b[0m\u001b[0;31m\\\u001b[0m\u001b[0;34m\u001b[0m\u001b[0;34m\u001b[0m\u001b[0m\n\u001b[0;32m----> 6\u001b[0;31m                 \u001b[0mStructField\u001b[0m\u001b[0;34m(\u001b[0m\u001b[0;34m\"start_date\"\u001b[0m\u001b[0;34m,\u001b[0m \u001b[0mDateTimeType\u001b[0m\u001b[0;34m(\u001b[0m\u001b[0;34m)\u001b[0m\u001b[0;34m,\u001b[0m \u001b[0;32mTrue\u001b[0m\u001b[0;34m)\u001b[0m\u001b[0;34m,\u001b[0m\u001b[0;31m \u001b[0m\u001b[0;31m\\\u001b[0m\u001b[0;34m\u001b[0m\u001b[0;34m\u001b[0m\u001b[0m\n\u001b[0m\u001b[1;32m      7\u001b[0m                 \u001b[0mStructField\u001b[0m\u001b[0;34m(\u001b[0m\u001b[0;34m\"start_station_code\"\u001b[0m\u001b[0;34m,\u001b[0m \u001b[0mStringType\u001b[0m\u001b[0;34m(\u001b[0m\u001b[0;34m)\u001b[0m\u001b[0;34m,\u001b[0m \u001b[0;32mTrue\u001b[0m\u001b[0;34m)\u001b[0m\u001b[0;34m,\u001b[0m\u001b[0;31m \u001b[0m\u001b[0;31m\\\u001b[0m\u001b[0;34m\u001b[0m\u001b[0;34m\u001b[0m\u001b[0m\n\u001b[1;32m      8\u001b[0m                 \u001b[0mStructField\u001b[0m\u001b[0;34m(\u001b[0m\u001b[0;34m\"end_date\"\u001b[0m\u001b[0;34m,\u001b[0m \u001b[0mDateType\u001b[0m\u001b[0;34m(\u001b[0m\u001b[0;34m)\u001b[0m\u001b[0;34m,\u001b[0m \u001b[0;32mTrue\u001b[0m\u001b[0;34m)\u001b[0m\u001b[0;34m,\u001b[0m\u001b[0;31m \u001b[0m\u001b[0;31m\\\u001b[0m\u001b[0;34m\u001b[0m\u001b[0;34m\u001b[0m\u001b[0m\n",
      "\u001b[0;31mNameError\u001b[0m: name 'DateTimeType' is not defined"
     ]
    }
   ],
   "source": [
    "# Vamos a definir un schema personalizado para poder tratar las fechas convenientemente\n",
    "from pyspark.sql.types import *\n",
    "\n",
    "bixiSchema = StructType([ \\\n",
    "                StructField(\"_c0\", DoubleType(), True), \\\n",
    "                StructField(\"start_date\", DateType(), True), \\\n",
    "                StructField(\"start_station_code\", StringType(), True), \\\n",
    "                StructField(\"end_date\", DateType(), True), \\\n",
    "                StructField(\"end_station_code\", StringType(), True), \\\n",
    "                StructField(\"duration_sec\", DoubleType(), True), \\\n",
    "                StructField(\"is_member\", BooleanType(), True)])"
   ]
  },
  {
   "cell_type": "code",
   "execution_count": 35,
   "metadata": {},
   "outputs": [
    {
     "name": "stdout",
     "output_type": "stream",
     "text": [
      "3136276\n"
     ]
    },
    {
     "data": {
      "text/plain": [
       "[Row(_c0=0.0, start_date=datetime.date(2014, 4, 15), start_station_code='6209', end_date=datetime.date(2014, 4, 15), end_station_code='6436', duration_sec=1061.0, is_member=None),\n",
       " Row(_c0=1.0, start_date=datetime.date(2014, 4, 15), start_station_code='6214', end_date=datetime.date(2014, 4, 15), end_station_code='6248', duration_sec=615.0, is_member=None),\n",
       " Row(_c0=2.0, start_date=datetime.date(2014, 4, 15), start_station_code='6164', end_date=datetime.date(2014, 4, 15), end_station_code='6216', duration_sec=1031.0, is_member=None)]"
      ]
     },
     "execution_count": 35,
     "metadata": {},
     "output_type": "execute_result"
    }
   ],
   "source": [
    "bixiDF = sqlContext.read.format('csv').options(header='true', delimiter = ',') \\\n",
    "        .load('./data/OD_2014.csv', schema = bixiSchema)\n",
    "\n",
    "print(bixiDF.count())\n",
    "bixiDF.take(3)"
   ]
  },
  {
   "cell_type": "code",
   "execution_count": 36,
   "metadata": {},
   "outputs": [
    {
     "name": "stdout",
     "output_type": "stream",
     "text": [
      "+-------+-----------------+------------------+------------------+-----------------+\n",
      "|summary|              _c0|start_station_code|  end_station_code|     duration_sec|\n",
      "+-------+-----------------+------------------+------------------+-----------------+\n",
      "|  count|          3136276|           3136276|           3136276|          3136276|\n",
      "|   mean|        1568137.5|  6237.94442134557| 6231.226863643378|789.7391029998636|\n",
      "| stddev|905365.0407640373|273.04065261969197|281.75890464523695|627.6714220519676|\n",
      "|    min|              0.0|             10002|             10002|             61.0|\n",
      "|    max|        3136275.0|              6929|              6929|           7195.0|\n",
      "+-------+-----------------+------------------+------------------+-----------------+\n",
      "\n"
     ]
    }
   ],
   "source": [
    "bixiDF.describe().show()"
   ]
  },
  {
   "cell_type": "code",
   "execution_count": 37,
   "metadata": {},
   "outputs": [
    {
     "data": {
      "text/plain": [
       "DataFrame[_c0: double, start_date: date, start_station_code: string, end_date: date, end_station_code: string, duration_sec: double, is_member: boolean]"
      ]
     },
     "metadata": {},
     "output_type": "display_data"
    }
   ],
   "source": [
    "display(bixiDF)"
   ]
  },
  {
   "cell_type": "code",
   "execution_count": null,
   "metadata": {},
   "outputs": [],
   "source": []
  },
  {
   "cell_type": "code",
   "execution_count": 38,
   "metadata": {},
   "outputs": [],
   "source": [
    "year = '2014'"
   ]
  },
  {
   "cell_type": "code",
   "execution_count": 39,
   "metadata": {},
   "outputs": [],
   "source": [
    "sqlContext.sql('DROP TABLE IF EXISTS metyis_bixi_travels')\n",
    "sqlContext.registerDataFrameAsTable(bixiDF, 'metyis_bixi_travels')"
   ]
  },
  {
   "cell_type": "code",
   "execution_count": 40,
   "metadata": {},
   "outputs": [
    {
     "data": {
      "text/plain": [
       "[Row(month=4, sum(duration_sec)=2476839795.0)]"
      ]
     },
     "execution_count": 40,
     "metadata": {},
     "output_type": "execute_result"
    }
   ],
   "source": [
    "# durations = sqlContext.sql('SELECT min(month(start_date)) as month, sum(duration_sec) \\\n",
    "#        FROM metyis_bixi_travels')\n",
    "# durations.take(10)"
   ]
  },
  {
   "cell_type": "code",
   "execution_count": 85,
   "metadata": {},
   "outputs": [
    {
     "data": {
      "text/plain": [
       "[Row(month=4, time=725.5070383506983),\n",
       " Row(month=5, time=799.1206648493941),\n",
       " Row(month=6, time=832.9655290446372),\n",
       " Row(month=7, time=822.1203842262782),\n",
       " Row(month=8, time=835.3192805057653),\n",
       " Row(month=9, time=761.46314588154),\n",
       " Row(month=10, time=694.5260624800343),\n",
       " Row(month=11, time=621.2702324203495)]"
      ]
     },
     "execution_count": 85,
     "metadata": {},
     "output_type": "execute_result"
    }
   ],
   "source": [
    "durations = sqlContext.sql('SELECT \\\n",
    "        month(start_date) as month, avg(duration_sec) as time \\\n",
    "        FROM metyis_bixi_travels \\\n",
    "        WHERE year(start_date) = {} \\\n",
    "        GROUP BY month(start_date) \\\n",
    "        ORDER BY month'\\\n",
    "        .format(year))\n",
    "durations.take(10)"
   ]
  },
  {
   "cell_type": "code",
   "execution_count": 86,
   "metadata": {},
   "outputs": [
    {
     "data": {
      "text/html": [
       "<div>\n",
       "<style scoped>\n",
       "    .dataframe tbody tr th:only-of-type {\n",
       "        vertical-align: middle;\n",
       "    }\n",
       "\n",
       "    .dataframe tbody tr th {\n",
       "        vertical-align: top;\n",
       "    }\n",
       "\n",
       "    .dataframe thead th {\n",
       "        text-align: right;\n",
       "    }\n",
       "</style>\n",
       "<table border=\"1\" class=\"dataframe\">\n",
       "  <thead>\n",
       "    <tr style=\"text-align: right;\">\n",
       "      <th></th>\n",
       "      <th>month</th>\n",
       "      <th>time</th>\n",
       "    </tr>\n",
       "  </thead>\n",
       "  <tbody>\n",
       "    <tr>\n",
       "      <th>0</th>\n",
       "      <td>4</td>\n",
       "      <td>725.507038</td>\n",
       "    </tr>\n",
       "    <tr>\n",
       "      <th>1</th>\n",
       "      <td>5</td>\n",
       "      <td>799.120665</td>\n",
       "    </tr>\n",
       "    <tr>\n",
       "      <th>2</th>\n",
       "      <td>6</td>\n",
       "      <td>832.965529</td>\n",
       "    </tr>\n",
       "    <tr>\n",
       "      <th>3</th>\n",
       "      <td>7</td>\n",
       "      <td>822.120384</td>\n",
       "    </tr>\n",
       "    <tr>\n",
       "      <th>4</th>\n",
       "      <td>8</td>\n",
       "      <td>835.319281</td>\n",
       "    </tr>\n",
       "    <tr>\n",
       "      <th>5</th>\n",
       "      <td>9</td>\n",
       "      <td>761.463146</td>\n",
       "    </tr>\n",
       "    <tr>\n",
       "      <th>6</th>\n",
       "      <td>10</td>\n",
       "      <td>694.526062</td>\n",
       "    </tr>\n",
       "    <tr>\n",
       "      <th>7</th>\n",
       "      <td>11</td>\n",
       "      <td>621.270232</td>\n",
       "    </tr>\n",
       "  </tbody>\n",
       "</table>\n",
       "</div>"
      ],
      "text/plain": [
       "   month        time\n",
       "0      4  725.507038\n",
       "1      5  799.120665\n",
       "2      6  832.965529\n",
       "3      7  822.120384\n",
       "4      8  835.319281\n",
       "5      9  761.463146\n",
       "6     10  694.526062\n",
       "7     11  621.270232"
      ]
     },
     "execution_count": 86,
     "metadata": {},
     "output_type": "execute_result"
    }
   ],
   "source": [
    "from matplotlib import pyplot as plt\n",
    "import pandas as pd\n",
    "\n",
    "durationsDF = pd.DataFrame(durations.toPandas(), columns=['month', 'time'])\n",
    "#durationsDF['ts'] = durationsDF[\"date\"].astype(\"datetime64\")\n",
    "durationsDF.head(10)\n",
    "\n",
    "\n",
    "# durationsDF.plot.hist(y='ts', x='time')"
   ]
  },
  {
   "cell_type": "markdown",
   "metadata": {},
   "source": [
    "## Histograma de tiempos de viaje para un año dado"
   ]
  },
  {
   "cell_type": "code",
   "execution_count": 81,
   "metadata": {},
   "outputs": [
    {
     "data": {
      "image/png": "[encoded data removed]",
      "text/plain": [
       "<Figure size 1440x360 with 1 Axes>"
      ]
     },
     "metadata": {
      "needs_background": "light"
     },
     "output_type": "display_data"
    }
   ],
   "source": [
    "fig, ax = plt.subplots(figsize=(20, 5))\n",
    "\n",
    "durations_plot = durationsDF.plot(kind=\"bar\",ax=ax)"
   ]
  },
  {
   "cell_type": "code",
   "execution_count": null,
   "metadata": {},
   "outputs": [],
   "source": []
  },
  {
   "cell_type": "markdown",
   "metadata": {},
   "source": [
    "## Listado del Top N de estaciones más utilizadas para un año dado"
   ]
  },
  {
   "cell_type": "markdown",
   "metadata": {},
   "source": [
    "### Estaciones de salida"
   ]
  },
  {
   "cell_type": "code",
   "execution_count": 120,
   "metadata": {},
   "outputs": [
    {
     "data": {
      "text/html": [
       "<div>\n",
       "<style scoped>\n",
       "    .dataframe tbody tr th:only-of-type {\n",
       "        vertical-align: middle;\n",
       "    }\n",
       "\n",
       "    .dataframe tbody tr th {\n",
       "        vertical-align: top;\n",
       "    }\n",
       "\n",
       "    .dataframe thead th {\n",
       "        text-align: right;\n",
       "    }\n",
       "</style>\n",
       "<table border=\"1\" class=\"dataframe\">\n",
       "  <thead>\n",
       "    <tr style=\"text-align: right;\">\n",
       "      <th></th>\n",
       "      <th>use</th>\n",
       "      <th>start_station_code</th>\n",
       "    </tr>\n",
       "  </thead>\n",
       "  <tbody>\n",
       "    <tr>\n",
       "      <th>0</th>\n",
       "      <td>45600</td>\n",
       "      <td>6184</td>\n",
       "    </tr>\n",
       "    <tr>\n",
       "      <th>1</th>\n",
       "      <td>33241</td>\n",
       "      <td>6078</td>\n",
       "    </tr>\n",
       "    <tr>\n",
       "      <th>2</th>\n",
       "      <td>32055</td>\n",
       "      <td>6064</td>\n",
       "    </tr>\n",
       "    <tr>\n",
       "      <th>3</th>\n",
       "      <td>28224</td>\n",
       "      <td>6214</td>\n",
       "    </tr>\n",
       "    <tr>\n",
       "      <th>4</th>\n",
       "      <td>27072</td>\n",
       "      <td>6100</td>\n",
       "    </tr>\n",
       "  </tbody>\n",
       "</table>\n",
       "</div>"
      ],
      "text/plain": [
       "     use start_station_code\n",
       "0  45600               6184\n",
       "1  33241               6078\n",
       "2  32055               6064\n",
       "3  28224               6214\n",
       "4  27072               6100"
      ]
     },
     "execution_count": 120,
     "metadata": {},
     "output_type": "execute_result"
    }
   ],
   "source": [
    "top_stations_departure = sqlContext.sql('SELECT count(_c0) as use, start_station_code \\\n",
    "                                        FROM metyis_bixi_travels \\\n",
    "                                        WHERE year(start_date) = {} \\\n",
    "                                        GROUP BY start_station_code \\\n",
    "                                        ORDER BY use DESC'\\\n",
    "                                        .format(year))\n",
    "\n",
    "top_stations_departureDF = pd.DataFrame(top_stations_departure.toPandas(), columns=['use', 'start_station_code'])\n",
    "top_stations_departureDF.head(5)"
   ]
  },
  {
   "cell_type": "markdown",
   "metadata": {},
   "source": [
    "### Estaciones de llegada"
   ]
  },
  {
   "cell_type": "code",
   "execution_count": 121,
   "metadata": {},
   "outputs": [
    {
     "data": {
      "text/html": [
       "<div>\n",
       "<style scoped>\n",
       "    .dataframe tbody tr th:only-of-type {\n",
       "        vertical-align: middle;\n",
       "    }\n",
       "\n",
       "    .dataframe tbody tr th {\n",
       "        vertical-align: top;\n",
       "    }\n",
       "\n",
       "    .dataframe thead th {\n",
       "        text-align: right;\n",
       "    }\n",
       "</style>\n",
       "<table border=\"1\" class=\"dataframe\">\n",
       "  <thead>\n",
       "    <tr style=\"text-align: right;\">\n",
       "      <th></th>\n",
       "      <th>use</th>\n",
       "      <th>end_station_code</th>\n",
       "    </tr>\n",
       "  </thead>\n",
       "  <tbody>\n",
       "    <tr>\n",
       "      <th>0</th>\n",
       "      <td>43765</td>\n",
       "      <td>6184</td>\n",
       "    </tr>\n",
       "    <tr>\n",
       "      <th>1</th>\n",
       "      <td>39310</td>\n",
       "      <td>6078</td>\n",
       "    </tr>\n",
       "    <tr>\n",
       "      <th>2</th>\n",
       "      <td>34819</td>\n",
       "      <td>6064</td>\n",
       "    </tr>\n",
       "    <tr>\n",
       "      <th>3</th>\n",
       "      <td>34664</td>\n",
       "      <td>6012</td>\n",
       "    </tr>\n",
       "    <tr>\n",
       "      <th>4</th>\n",
       "      <td>31664</td>\n",
       "      <td>6015</td>\n",
       "    </tr>\n",
       "  </tbody>\n",
       "</table>\n",
       "</div>"
      ],
      "text/plain": [
       "     use end_station_code\n",
       "0  43765             6184\n",
       "1  39310             6078\n",
       "2  34819             6064\n",
       "3  34664             6012\n",
       "4  31664             6015"
      ]
     },
     "execution_count": 121,
     "metadata": {},
     "output_type": "execute_result"
    }
   ],
   "source": [
    "top_stations_arrival = sqlContext.sql('SELECT count(_c0) as use, end_station_code \\\n",
    "                                        FROM metyis_bixi_travels \\\n",
    "                                        WHERE year(start_date) = {} \\\n",
    "                                        GROUP BY end_station_code \\\n",
    "                                        ORDER BY use DESC'\\\n",
    "                                        .format(year))\n",
    "\n",
    "top_stations_arrivalDF = pd.DataFrame(top_stations_arrival.toPandas(), columns=['use', 'end_station_code'])\n",
    "top_stations_arrivalDF.head(5)"
   ]
  },
  {
   "cell_type": "markdown",
   "metadata": {},
   "source": [
    "### En general"
   ]
  },
  {
   "cell_type": "code",
   "execution_count": 122,
   "metadata": {},
   "outputs": [
    {
     "data": {
      "text/html": [
       "<div>\n",
       "<style scoped>\n",
       "    .dataframe tbody tr th:only-of-type {\n",
       "        vertical-align: middle;\n",
       "    }\n",
       "\n",
       "    .dataframe tbody tr th {\n",
       "        vertical-align: top;\n",
       "    }\n",
       "\n",
       "    .dataframe thead th {\n",
       "        text-align: right;\n",
       "    }\n",
       "</style>\n",
       "<table border=\"1\" class=\"dataframe\">\n",
       "  <thead>\n",
       "    <tr style=\"text-align: right;\">\n",
       "      <th></th>\n",
       "      <th>use</th>\n",
       "      <th>start_station_code</th>\n",
       "    </tr>\n",
       "  </thead>\n",
       "  <tbody>\n",
       "    <tr>\n",
       "      <th>0</th>\n",
       "      <td>45600</td>\n",
       "      <td>6184</td>\n",
       "    </tr>\n",
       "    <tr>\n",
       "      <th>1</th>\n",
       "      <td>33241</td>\n",
       "      <td>6078</td>\n",
       "    </tr>\n",
       "    <tr>\n",
       "      <th>2</th>\n",
       "      <td>32055</td>\n",
       "      <td>6064</td>\n",
       "    </tr>\n",
       "    <tr>\n",
       "      <th>3</th>\n",
       "      <td>28224</td>\n",
       "      <td>6214</td>\n",
       "    </tr>\n",
       "    <tr>\n",
       "      <th>4</th>\n",
       "      <td>27072</td>\n",
       "      <td>6100</td>\n",
       "    </tr>\n",
       "    <tr>\n",
       "      <th>...</th>\n",
       "      <td>...</td>\n",
       "      <td>...</td>\n",
       "    </tr>\n",
       "    <tr>\n",
       "      <th>454</th>\n",
       "      <td>187</td>\n",
       "      <td>5004</td>\n",
       "    </tr>\n",
       "    <tr>\n",
       "      <th>455</th>\n",
       "      <td>162</td>\n",
       "      <td>6750</td>\n",
       "    </tr>\n",
       "    <tr>\n",
       "      <th>456</th>\n",
       "      <td>24</td>\n",
       "      <td>6928</td>\n",
       "    </tr>\n",
       "    <tr>\n",
       "      <th>457</th>\n",
       "      <td>22</td>\n",
       "      <td>6240</td>\n",
       "    </tr>\n",
       "    <tr>\n",
       "      <th>458</th>\n",
       "      <td>8</td>\n",
       "      <td>6005</td>\n",
       "    </tr>\n",
       "  </tbody>\n",
       "</table>\n",
       "<p>459 rows × 2 columns</p>\n",
       "</div>"
      ],
      "text/plain": [
       "       use start_station_code\n",
       "0    45600               6184\n",
       "1    33241               6078\n",
       "2    32055               6064\n",
       "3    28224               6214\n",
       "4    27072               6100\n",
       "..     ...                ...\n",
       "454    187               5004\n",
       "455    162               6750\n",
       "456     24               6928\n",
       "457     22               6240\n",
       "458      8               6005\n",
       "\n",
       "[459 rows x 2 columns]"
      ]
     },
     "execution_count": 122,
     "metadata": {},
     "output_type": "execute_result"
    }
   ],
   "source": [
    "top_stations_departureDF"
   ]
  },
  {
   "cell_type": "code",
   "execution_count": 134,
   "metadata": {},
   "outputs": [
    {
     "data": {
      "text/html": [
       "<div>\n",
       "<style scoped>\n",
       "    .dataframe tbody tr th:only-of-type {\n",
       "        vertical-align: middle;\n",
       "    }\n",
       "\n",
       "    .dataframe tbody tr th {\n",
       "        vertical-align: top;\n",
       "    }\n",
       "\n",
       "    .dataframe thead th {\n",
       "        text-align: right;\n",
       "    }\n",
       "</style>\n",
       "<table border=\"1\" class=\"dataframe\">\n",
       "  <thead>\n",
       "    <tr style=\"text-align: right;\">\n",
       "      <th></th>\n",
       "      <th>start_station_code</th>\n",
       "      <th>total_use</th>\n",
       "    </tr>\n",
       "  </thead>\n",
       "  <tbody>\n",
       "    <tr>\n",
       "      <th>0</th>\n",
       "      <td>6184</td>\n",
       "      <td>89365</td>\n",
       "    </tr>\n",
       "    <tr>\n",
       "      <th>1</th>\n",
       "      <td>6078</td>\n",
       "      <td>72551</td>\n",
       "    </tr>\n",
       "    <tr>\n",
       "      <th>2</th>\n",
       "      <td>6064</td>\n",
       "      <td>66874</td>\n",
       "    </tr>\n",
       "    <tr>\n",
       "      <th>3</th>\n",
       "      <td>6214</td>\n",
       "      <td>47838</td>\n",
       "    </tr>\n",
       "    <tr>\n",
       "      <th>4</th>\n",
       "      <td>6100</td>\n",
       "      <td>53909</td>\n",
       "    </tr>\n",
       "  </tbody>\n",
       "</table>\n",
       "</div>"
      ],
      "text/plain": [
       "  start_station_code  total_use\n",
       "0               6184      89365\n",
       "1               6078      72551\n",
       "2               6064      66874\n",
       "3               6214      47838\n",
       "4               6100      53909"
      ]
     },
     "execution_count": 134,
     "metadata": {},
     "output_type": "execute_result"
    }
   ],
   "source": [
    "top_stations = pd.merge(top_stations_departureDF,\n",
    "                        top_stations_arrivalDF, \n",
    "                        left_on = ['start_station_code'], \n",
    "                        right_on = ['end_station_code'], \n",
    "                        how='outer')\n",
    "\n",
    "top_stations['total_use'] = top_stations['use_x']+top_stations['use_y']\n",
    "top_stations[['start_station_code','total_use']].head(5)"
   ]
  },
  {
   "cell_type": "code",
   "execution_count": null,
   "metadata": {},
   "outputs": [],
   "source": []
  },
  {
   "cell_type": "markdown",
   "metadata": {},
   "source": [
    "## Viajes"
   ]
  },
  {
   "cell_type": "code",
   "execution_count": 136,
   "metadata": {},
   "outputs": [
    {
     "data": {
      "text/html": [
       "<div>\n",
       "<style scoped>\n",
       "    .dataframe tbody tr th:only-of-type {\n",
       "        vertical-align: middle;\n",
       "    }\n",
       "\n",
       "    .dataframe tbody tr th {\n",
       "        vertical-align: top;\n",
       "    }\n",
       "\n",
       "    .dataframe thead th {\n",
       "        text-align: right;\n",
       "    }\n",
       "</style>\n",
       "<table border=\"1\" class=\"dataframe\">\n",
       "  <thead>\n",
       "    <tr style=\"text-align: right;\">\n",
       "      <th></th>\n",
       "      <th>use</th>\n",
       "      <th>start_station_code</th>\n",
       "      <th>end_station_code</th>\n",
       "    </tr>\n",
       "  </thead>\n",
       "  <tbody>\n",
       "    <tr>\n",
       "      <th>0</th>\n",
       "      <td>2853</td>\n",
       "      <td>6501</td>\n",
       "      <td>6501</td>\n",
       "    </tr>\n",
       "    <tr>\n",
       "      <th>1</th>\n",
       "      <td>1809</td>\n",
       "      <td>6026</td>\n",
       "      <td>6026</td>\n",
       "    </tr>\n",
       "    <tr>\n",
       "      <th>2</th>\n",
       "      <td>1670</td>\n",
       "      <td>6155</td>\n",
       "      <td>6184</td>\n",
       "    </tr>\n",
       "    <tr>\n",
       "      <th>3</th>\n",
       "      <td>1660</td>\n",
       "      <td>6154</td>\n",
       "      <td>6184</td>\n",
       "    </tr>\n",
       "    <tr>\n",
       "      <th>4</th>\n",
       "      <td>1629</td>\n",
       "      <td>6064</td>\n",
       "      <td>6100</td>\n",
       "    </tr>\n",
       "  </tbody>\n",
       "</table>\n",
       "</div>"
      ],
      "text/plain": [
       "    use start_station_code end_station_code\n",
       "0  2853               6501             6501\n",
       "1  1809               6026             6026\n",
       "2  1670               6155             6184\n",
       "3  1660               6154             6184\n",
       "4  1629               6064             6100"
      ]
     },
     "execution_count": 136,
     "metadata": {},
     "output_type": "execute_result"
    }
   ],
   "source": [
    "top_travels = sqlContext.sql('SELECT count(_c0) as use, start_station_code, end_station_code \\\n",
    "                                        FROM metyis_bixi_travels \\\n",
    "                                        WHERE year(start_date) = {} \\\n",
    "                                        GROUP BY start_station_code, end_station_code \\\n",
    "                                        ORDER BY use DESC'\\\n",
    "                                        .format(year))\n",
    "\n",
    "top_travels = pd.DataFrame(top_travels.toPandas(), columns=['use', 'start_station_code', 'end_station_code'])\n",
    "top_travels.head(5)"
   ]
  },
  {
   "cell_type": "code",
   "execution_count": null,
   "metadata": {},
   "outputs": [],
   "source": []
  },
  {
   "cell_type": "code",
   "execution_count": null,
   "metadata": {},
   "outputs": [],
   "source": []
  },
  {
   "cell_type": "code",
   "execution_count": 150,
   "metadata": {},
   "outputs": [
    {
     "data": {
      "text/plain": [
       "[Row(_c0=0.0, start_date=datetime.date(2014, 4, 15), dayofweek(start_date)=3, date_format(CAST(start_date AS TIMESTAMP), HH:mm)='00:00'),\n",
       " Row(_c0=1.0, start_date=datetime.date(2014, 4, 15), dayofweek(start_date)=3, date_format(CAST(start_date AS TIMESTAMP), HH:mm)='00:00'),\n",
       " Row(_c0=2.0, start_date=datetime.date(2014, 4, 15), dayofweek(start_date)=3, date_format(CAST(start_date AS TIMESTAMP), HH:mm)='00:00'),\n",
       " Row(_c0=3.0, start_date=datetime.date(2014, 4, 15), dayofweek(start_date)=3, date_format(CAST(start_date AS TIMESTAMP), HH:mm)='00:00'),\n",
       " Row(_c0=4.0, start_date=datetime.date(2014, 4, 15), dayofweek(start_date)=3, date_format(CAST(start_date AS TIMESTAMP), HH:mm)='00:00'),\n",
       " Row(_c0=5.0, start_date=datetime.date(2014, 4, 15), dayofweek(start_date)=3, date_format(CAST(start_date AS TIMESTAMP), HH:mm)='00:00'),\n",
       " Row(_c0=6.0, start_date=datetime.date(2014, 4, 15), dayofweek(start_date)=3, date_format(CAST(start_date AS TIMESTAMP), HH:mm)='00:00'),\n",
       " Row(_c0=7.0, start_date=datetime.date(2014, 4, 15), dayofweek(start_date)=3, date_format(CAST(start_date AS TIMESTAMP), HH:mm)='00:00'),\n",
       " Row(_c0=8.0, start_date=datetime.date(2014, 4, 15), dayofweek(start_date)=3, date_format(CAST(start_date AS TIMESTAMP), HH:mm)='00:00'),\n",
       " Row(_c0=9.0, start_date=datetime.date(2014, 4, 15), dayofweek(start_date)=3, date_format(CAST(start_date AS TIMESTAMP), HH:mm)='00:00'),\n",
       " Row(_c0=10.0, start_date=datetime.date(2014, 4, 15), dayofweek(start_date)=3, date_format(CAST(start_date AS TIMESTAMP), HH:mm)='00:00'),\n",
       " Row(_c0=11.0, start_date=datetime.date(2014, 4, 15), dayofweek(start_date)=3, date_format(CAST(start_date AS TIMESTAMP), HH:mm)='00:00'),\n",
       " Row(_c0=12.0, start_date=datetime.date(2014, 4, 15), dayofweek(start_date)=3, date_format(CAST(start_date AS TIMESTAMP), HH:mm)='00:00'),\n",
       " Row(_c0=13.0, start_date=datetime.date(2014, 4, 15), dayofweek(start_date)=3, date_format(CAST(start_date AS TIMESTAMP), HH:mm)='00:00'),\n",
       " Row(_c0=14.0, start_date=datetime.date(2014, 4, 15), dayofweek(start_date)=3, date_format(CAST(start_date AS TIMESTAMP), HH:mm)='00:00'),\n",
       " Row(_c0=15.0, start_date=datetime.date(2014, 4, 15), dayofweek(start_date)=3, date_format(CAST(start_date AS TIMESTAMP), HH:mm)='00:00'),\n",
       " Row(_c0=16.0, start_date=datetime.date(2014, 4, 15), dayofweek(start_date)=3, date_format(CAST(start_date AS TIMESTAMP), HH:mm)='00:00'),\n",
       " Row(_c0=17.0, start_date=datetime.date(2014, 4, 15), dayofweek(start_date)=3, date_format(CAST(start_date AS TIMESTAMP), HH:mm)='00:00'),\n",
       " Row(_c0=18.0, start_date=datetime.date(2014, 4, 15), dayofweek(start_date)=3, date_format(CAST(start_date AS TIMESTAMP), HH:mm)='00:00'),\n",
       " Row(_c0=19.0, start_date=datetime.date(2014, 4, 15), dayofweek(start_date)=3, date_format(CAST(start_date AS TIMESTAMP), HH:mm)='00:00'),\n",
       " Row(_c0=20.0, start_date=datetime.date(2014, 4, 15), dayofweek(start_date)=3, date_format(CAST(start_date AS TIMESTAMP), HH:mm)='00:00'),\n",
       " Row(_c0=21.0, start_date=datetime.date(2014, 4, 15), dayofweek(start_date)=3, date_format(CAST(start_date AS TIMESTAMP), HH:mm)='00:00'),\n",
       " Row(_c0=22.0, start_date=datetime.date(2014, 4, 15), dayofweek(start_date)=3, date_format(CAST(start_date AS TIMESTAMP), HH:mm)='00:00'),\n",
       " Row(_c0=23.0, start_date=datetime.date(2014, 4, 15), dayofweek(start_date)=3, date_format(CAST(start_date AS TIMESTAMP), HH:mm)='00:00'),\n",
       " Row(_c0=24.0, start_date=datetime.date(2014, 4, 15), dayofweek(start_date)=3, date_format(CAST(start_date AS TIMESTAMP), HH:mm)='00:00'),\n",
       " Row(_c0=25.0, start_date=datetime.date(2014, 4, 15), dayofweek(start_date)=3, date_format(CAST(start_date AS TIMESTAMP), HH:mm)='00:00'),\n",
       " Row(_c0=26.0, start_date=datetime.date(2014, 4, 15), dayofweek(start_date)=3, date_format(CAST(start_date AS TIMESTAMP), HH:mm)='00:00'),\n",
       " Row(_c0=27.0, start_date=datetime.date(2014, 4, 15), dayofweek(start_date)=3, date_format(CAST(start_date AS TIMESTAMP), HH:mm)='00:00'),\n",
       " Row(_c0=28.0, start_date=datetime.date(2014, 4, 15), dayofweek(start_date)=3, date_format(CAST(start_date AS TIMESTAMP), HH:mm)='00:00'),\n",
       " Row(_c0=29.0, start_date=datetime.date(2014, 4, 15), dayofweek(start_date)=3, date_format(CAST(start_date AS TIMESTAMP), HH:mm)='00:00'),\n",
       " Row(_c0=30.0, start_date=datetime.date(2014, 4, 15), dayofweek(start_date)=3, date_format(CAST(start_date AS TIMESTAMP), HH:mm)='00:00'),\n",
       " Row(_c0=31.0, start_date=datetime.date(2014, 4, 15), dayofweek(start_date)=3, date_format(CAST(start_date AS TIMESTAMP), HH:mm)='00:00'),\n",
       " Row(_c0=32.0, start_date=datetime.date(2014, 4, 15), dayofweek(start_date)=3, date_format(CAST(start_date AS TIMESTAMP), HH:mm)='00:00'),\n",
       " Row(_c0=33.0, start_date=datetime.date(2014, 4, 15), dayofweek(start_date)=3, date_format(CAST(start_date AS TIMESTAMP), HH:mm)='00:00'),\n",
       " Row(_c0=34.0, start_date=datetime.date(2014, 4, 15), dayofweek(start_date)=3, date_format(CAST(start_date AS TIMESTAMP), HH:mm)='00:00'),\n",
       " Row(_c0=35.0, start_date=datetime.date(2014, 4, 15), dayofweek(start_date)=3, date_format(CAST(start_date AS TIMESTAMP), HH:mm)='00:00'),\n",
       " Row(_c0=36.0, start_date=datetime.date(2014, 4, 15), dayofweek(start_date)=3, date_format(CAST(start_date AS TIMESTAMP), HH:mm)='00:00'),\n",
       " Row(_c0=37.0, start_date=datetime.date(2014, 4, 15), dayofweek(start_date)=3, date_format(CAST(start_date AS TIMESTAMP), HH:mm)='00:00'),\n",
       " Row(_c0=38.0, start_date=datetime.date(2014, 4, 15), dayofweek(start_date)=3, date_format(CAST(start_date AS TIMESTAMP), HH:mm)='00:00'),\n",
       " Row(_c0=39.0, start_date=datetime.date(2014, 4, 15), dayofweek(start_date)=3, date_format(CAST(start_date AS TIMESTAMP), HH:mm)='00:00'),\n",
       " Row(_c0=40.0, start_date=datetime.date(2014, 4, 15), dayofweek(start_date)=3, date_format(CAST(start_date AS TIMESTAMP), HH:mm)='00:00'),\n",
       " Row(_c0=41.0, start_date=datetime.date(2014, 4, 15), dayofweek(start_date)=3, date_format(CAST(start_date AS TIMESTAMP), HH:mm)='00:00'),\n",
       " Row(_c0=42.0, start_date=datetime.date(2014, 4, 15), dayofweek(start_date)=3, date_format(CAST(start_date AS TIMESTAMP), HH:mm)='00:00'),\n",
       " Row(_c0=43.0, start_date=datetime.date(2014, 4, 15), dayofweek(start_date)=3, date_format(CAST(start_date AS TIMESTAMP), HH:mm)='00:00'),\n",
       " Row(_c0=44.0, start_date=datetime.date(2014, 4, 15), dayofweek(start_date)=3, date_format(CAST(start_date AS TIMESTAMP), HH:mm)='00:00'),\n",
       " Row(_c0=45.0, start_date=datetime.date(2014, 4, 15), dayofweek(start_date)=3, date_format(CAST(start_date AS TIMESTAMP), HH:mm)='00:00'),\n",
       " Row(_c0=46.0, start_date=datetime.date(2014, 4, 15), dayofweek(start_date)=3, date_format(CAST(start_date AS TIMESTAMP), HH:mm)='00:00'),\n",
       " Row(_c0=47.0, start_date=datetime.date(2014, 4, 15), dayofweek(start_date)=3, date_format(CAST(start_date AS TIMESTAMP), HH:mm)='00:00'),\n",
       " Row(_c0=48.0, start_date=datetime.date(2014, 4, 15), dayofweek(start_date)=3, date_format(CAST(start_date AS TIMESTAMP), HH:mm)='00:00'),\n",
       " Row(_c0=49.0, start_date=datetime.date(2014, 4, 15), dayofweek(start_date)=3, date_format(CAST(start_date AS TIMESTAMP), HH:mm)='00:00')]"
      ]
     },
     "execution_count": 150,
     "metadata": {},
     "output_type": "execute_result"
    }
   ],
   "source": [
    "rush = sqlContext.sql('SELECT _c0, start_date, dayofweek(start_date), date_format(start_date, \"HH:mm\") \\\n",
    "                                        FROM metyis_bixi_travels'\\\n",
    "                                        .format(year))\n",
    "rush.take(50)"
   ]
  },
  {
   "cell_type": "code",
   "execution_count": null,
   "metadata": {},
   "outputs": [],
   "source": []
  }
 ],
 "metadata": {
  "kernelspec": {
   "display_name": "Python 3",
   "language": "python",
   "name": "python3"
  },
  "language_info": {
   "codemirror_mode": {
    "name": "ipython",
    "version": 3
   },
   "file_extension": ".py",
   "mimetype": "text/x-python",
   "name": "python",
   "nbconvert_exporter": "python",
   "pygments_lexer": "ipython3",
   "version": "3.8.5"
  }
 },
 "nbformat": 4,
 "nbformat_minor": 4
}
