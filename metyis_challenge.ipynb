{
 "cells": [
  {
   "cell_type": "markdown",
   "metadata": {},
   "source": [
    "# SETUP"
   ]
  },
  {
   "cell_type": "code",
   "execution_count": 1,
   "metadata": {},
   "outputs": [
    {
     "name": "stdout",
     "output_type": "stream",
     "text": [
      "time: 230 µs (started: 2021-08-07 18:59:40 +02:00)\n"
     ]
    }
   ],
   "source": [
    "try:\n",
    "    %load_ext autotime\n",
    "except:\n",
    "    !pip install ipython-autotime\n",
    "    %load_ext autotime"
   ]
  },
  {
   "cell_type": "code",
   "execution_count": 2,
   "metadata": {},
   "outputs": [
    {
     "name": "stdout",
     "output_type": "stream",
     "text": [
      "time: 1.43 s (started: 2021-08-07 18:59:41 +02:00)\n"
     ]
    }
   ],
   "source": [
    "import pyspark\n",
    "import os.path\n",
    "from matplotlib import pyplot as plt\n",
    "import pandas as pd"
   ]
  },
  {
   "cell_type": "code",
   "execution_count": 3,
   "metadata": {},
   "outputs": [
    {
     "name": "stdout",
     "output_type": "stream",
     "text": [
      "time: 3.09 s (started: 2021-08-07 18:59:42 +02:00)\n"
     ]
    }
   ],
   "source": [
    "config = pyspark.SparkConf().setAll([('spark.executor.memory', '8g'), \\\n",
    "                                     ('spark.executor.cores', '3'), \\\n",
    "                                     ('spark.cores.max', '3'),\\\n",
    "                                     ('spark.driver.memory','8g')])\n",
    "\n",
    "\n",
    "\n",
    "sc = pyspark.SparkContext(master=\"local[1]\",appName='metyis_challenge', conf=config)"
   ]
  },
  {
   "cell_type": "code",
   "execution_count": 4,
   "metadata": {},
   "outputs": [
    {
     "name": "stdout",
     "output_type": "stream",
     "text": [
      "time: 109 ms (started: 2021-08-07 18:59:45 +02:00)\n"
     ]
    }
   ],
   "source": [
    "from pyspark.sql import SQLContext\n",
    "sqlContext = SQLContext(sc)"
   ]
  },
  {
   "cell_type": "code",
   "execution_count": 5,
   "metadata": {},
   "outputs": [
    {
     "name": "stdout",
     "output_type": "stream",
     "text": [
      "time: 522 µs (started: 2021-08-07 18:59:45 +02:00)\n"
     ]
    }
   ],
   "source": [
    "# Vamos a definir un schema personalizado para poder tratar las fechas convenientemente\n",
    "from pyspark.sql.types import *\n",
    "\n",
    "bixiSchema = StructType([ \\\n",
    "                StructField(\"_c0\", DoubleType(), True), \\\n",
    "                StructField(\"start_date\", TimestampType(), True), \\\n",
    "                StructField(\"start_station_code\", StringType(), True), \\\n",
    "                StructField(\"end_date\", TimestampType(), True), \\\n",
    "                StructField(\"end_station_code\", StringType(), True), \\\n",
    "                StructField(\"duration_sec\", DoubleType(), True), \\\n",
    "                StructField(\"is_member\", BooleanType(), True)])"
   ]
  },
  {
   "cell_type": "code",
   "execution_count": 6,
   "metadata": {},
   "outputs": [
    {
     "name": "stdout",
     "output_type": "stream",
     "text": [
      "14598961\n"
     ]
    },
    {
     "data": {
      "text/plain": [
       "[Row(_c0=0.0, start_date=datetime.datetime(2016, 4, 15, 0, 0), start_station_code='6315', end_date=datetime.datetime(2016, 4, 15, 0, 5), end_station_code='6315', duration_sec=349.0, is_member=None),\n",
       " Row(_c0=1.0, start_date=datetime.datetime(2016, 4, 15, 0, 0), start_station_code='6019', end_date=datetime.datetime(2016, 4, 15, 0, 29), end_station_code='6347', duration_sec=1720.0, is_member=None),\n",
       " Row(_c0=2.0, start_date=datetime.datetime(2016, 4, 15, 0, 0), start_station_code='6219', end_date=datetime.datetime(2016, 4, 15, 0, 5), end_station_code='6219', duration_sec=284.0, is_member=None)]"
      ]
     },
     "execution_count": 6,
     "metadata": {},
     "output_type": "execute_result"
    },
    {
     "name": "stdout",
     "output_type": "stream",
     "text": [
      "time: 9.36 s (started: 2021-08-07 18:59:45 +02:00)\n"
     ]
    }
   ],
   "source": [
    "bixiDF = sqlContext.read.format('csv').options(header='true', delimiter = ',') \\\n",
    "        .load('./data/OD_*.csv', schema = bixiSchema)\n",
    "\n",
    "print(bixiDF.count())\n",
    "bixiDF.take(3)"
   ]
  },
  {
   "cell_type": "code",
   "execution_count": 7,
   "metadata": {},
   "outputs": [
    {
     "name": "stdout",
     "output_type": "stream",
     "text": [
      "+-------+------------------+------------------+-----------------+-----------------+\n",
      "|summary|               _c0|start_station_code| end_station_code|     duration_sec|\n",
      "+-------+------------------+------------------+-----------------+-----------------+\n",
      "|  count|          14598961|          14598961|         14598961|         14598961|\n",
      "|   mean|1844217.1736258492| 6270.635323500076|6264.526367974157|823.9839498852008|\n",
      "| stddev| 1085876.755547333| 316.6746454215646|324.7446325731806|656.1315897383604|\n",
      "|    min|               0.0|             10002|            10002|             61.0|\n",
      "|    max|         4018721.0|              7081|   Tabletop (RMA)|           7199.0|\n",
      "+-------+------------------+------------------+-----------------+-----------------+\n",
      "\n",
      "time: 39.3 s (started: 2021-08-07 18:59:55 +02:00)\n"
     ]
    }
   ],
   "source": [
    "bixiDF.describe().show()"
   ]
  },
  {
   "cell_type": "code",
   "execution_count": 8,
   "metadata": {},
   "outputs": [
    {
     "data": {
      "text/plain": [
       "DataFrame[_c0: double, start_date: timestamp, start_station_code: string, end_date: timestamp, end_station_code: string, duration_sec: double, is_member: boolean]"
      ]
     },
     "metadata": {},
     "output_type": "display_data"
    },
    {
     "name": "stdout",
     "output_type": "stream",
     "text": [
      "time: 27.6 ms (started: 2021-08-07 19:00:34 +02:00)\n"
     ]
    }
   ],
   "source": [
    "display(bixiDF)"
   ]
  },
  {
   "cell_type": "code",
   "execution_count": null,
   "metadata": {},
   "outputs": [],
   "source": []
  },
  {
   "cell_type": "code",
   "execution_count": 9,
   "metadata": {},
   "outputs": [
    {
     "name": "stdout",
     "output_type": "stream",
     "text": [
      "time: 229 ms (started: 2021-08-07 19:00:34 +02:00)\n"
     ]
    }
   ],
   "source": [
    "sqlContext.sql('DROP TABLE IF EXISTS metyis_bixi_travels')\n",
    "sqlContext.registerDataFrameAsTable(bixiDF, 'metyis_bixi_travels')"
   ]
  },
  {
   "cell_type": "markdown",
   "metadata": {},
   "source": [
    "#### Estaciones\n",
    "Registramos el archivo stations.json en una tabla para consultar cuando sea necesario"
   ]
  },
  {
   "cell_type": "code",
   "execution_count": 10,
   "metadata": {},
   "outputs": [
    {
     "name": "stdout",
     "output_type": "stream",
     "text": [
      "root\n",
      " |-- b: boolean (nullable = true)\n",
      " |-- ba: long (nullable = true)\n",
      " |-- bk: boolean (nullable = true)\n",
      " |-- bl: boolean (nullable = true)\n",
      " |-- bx: long (nullable = true)\n",
      " |-- da: long (nullable = true)\n",
      " |-- dx: long (nullable = true)\n",
      " |-- id: long (nullable = true)\n",
      " |-- la: double (nullable = true)\n",
      " |-- lc: long (nullable = true)\n",
      " |-- lo: double (nullable = true)\n",
      " |-- lu: long (nullable = true)\n",
      " |-- m: boolean (nullable = true)\n",
      " |-- n: string (nullable = true)\n",
      " |-- s: string (nullable = true)\n",
      " |-- st: long (nullable = true)\n",
      " |-- su: boolean (nullable = true)\n",
      "\n",
      "time: 437 ms (started: 2021-08-07 19:00:34 +02:00)\n"
     ]
    }
   ],
   "source": [
    "from pyspark.sql import functions as F\n",
    "\n",
    "bixi_stations = sqlContext.read.option(\"multiLine\",\"true\").json('./data/stations.json')\n",
    "\n",
    "# Explode Array to Structure\n",
    "bixi_stations = bixi_stations.withColumn('station',F.explode(F.col('stations'))).drop('stations').drop('schemeSuspended').drop('timestamp')\n",
    "# Read fields\n",
    "bixi_stations = bixi_stations.select(\"station.*\")\n",
    "\n",
    "bixi_stations.printSchema()"
   ]
  },
  {
   "cell_type": "code",
   "execution_count": 11,
   "metadata": {},
   "outputs": [
    {
     "name": "stdout",
     "output_type": "stream",
     "text": [
      "time: 29.9 ms (started: 2021-08-07 19:00:35 +02:00)\n"
     ]
    }
   ],
   "source": [
    "sqlContext.sql('DROP TABLE IF EXISTS bixi_stations')\n",
    "sqlContext.registerDataFrameAsTable(bixi_stations, 'bixi_stations')"
   ]
  },
  {
   "cell_type": "code",
   "execution_count": null,
   "metadata": {},
   "outputs": [],
   "source": []
  },
  {
   "cell_type": "markdown",
   "metadata": {},
   "source": [
    " "
   ]
  },
  {
   "cell_type": "markdown",
   "metadata": {},
   "source": [
    " "
   ]
  },
  {
   "cell_type": "markdown",
   "metadata": {},
   "source": [
    "# Puntos obligatorios\n",
    "Definimos una variable inicial del año que se quiere analizar"
   ]
  },
  {
   "cell_type": "code",
   "execution_count": 12,
   "metadata": {},
   "outputs": [
    {
     "name": "stdout",
     "output_type": "stream",
     "text": [
      "time: 385 µs (started: 2021-08-07 19:00:35 +02:00)\n"
     ]
    }
   ],
   "source": [
    "year = '2014'"
   ]
  },
  {
   "cell_type": "code",
   "execution_count": null,
   "metadata": {},
   "outputs": [],
   "source": []
  },
  {
   "cell_type": "code",
   "execution_count": 13,
   "metadata": {},
   "outputs": [
    {
     "data": {
      "text/plain": [
       "[Row(month=4, time=725.5070383506983),\n",
       " Row(month=5, time=799.1206648493941),\n",
       " Row(month=6, time=832.9655290446372),\n",
       " Row(month=7, time=822.1203842262782),\n",
       " Row(month=8, time=835.3192805057653),\n",
       " Row(month=9, time=761.46314588154),\n",
       " Row(month=10, time=694.5260624800343),\n",
       " Row(month=11, time=621.2702324203495)]"
      ]
     },
     "execution_count": 13,
     "metadata": {},
     "output_type": "execute_result"
    },
    {
     "name": "stdout",
     "output_type": "stream",
     "text": [
      "time: 4min 2s (started: 2021-08-07 19:00:35 +02:00)\n"
     ]
    }
   ],
   "source": [
    "durations = sqlContext.sql('SELECT \\\n",
    "        month(start_date) as month, avg(duration_sec) as time \\\n",
    "        FROM metyis_bixi_travels \\\n",
    "        WHERE year(start_date) = {} \\\n",
    "        GROUP BY month(start_date) \\\n",
    "        ORDER BY month'\\\n",
    "        .format(year))\n",
    "durations.take(10)"
   ]
  },
  {
   "cell_type": "code",
   "execution_count": 14,
   "metadata": {},
   "outputs": [
    {
     "data": {
      "text/html": [
       "<div>\n",
       "<style scoped>\n",
       "    .dataframe tbody tr th:only-of-type {\n",
       "        vertical-align: middle;\n",
       "    }\n",
       "\n",
       "    .dataframe tbody tr th {\n",
       "        vertical-align: top;\n",
       "    }\n",
       "\n",
       "    .dataframe thead th {\n",
       "        text-align: right;\n",
       "    }\n",
       "</style>\n",
       "<table border=\"1\" class=\"dataframe\">\n",
       "  <thead>\n",
       "    <tr style=\"text-align: right;\">\n",
       "      <th></th>\n",
       "      <th>month</th>\n",
       "      <th>time</th>\n",
       "    </tr>\n",
       "  </thead>\n",
       "  <tbody>\n",
       "    <tr>\n",
       "      <th>0</th>\n",
       "      <td>4</td>\n",
       "      <td>725.507038</td>\n",
       "    </tr>\n",
       "    <tr>\n",
       "      <th>1</th>\n",
       "      <td>5</td>\n",
       "      <td>799.120665</td>\n",
       "    </tr>\n",
       "    <tr>\n",
       "      <th>2</th>\n",
       "      <td>6</td>\n",
       "      <td>832.965529</td>\n",
       "    </tr>\n",
       "    <tr>\n",
       "      <th>3</th>\n",
       "      <td>7</td>\n",
       "      <td>822.120384</td>\n",
       "    </tr>\n",
       "    <tr>\n",
       "      <th>4</th>\n",
       "      <td>8</td>\n",
       "      <td>835.319281</td>\n",
       "    </tr>\n",
       "    <tr>\n",
       "      <th>5</th>\n",
       "      <td>9</td>\n",
       "      <td>761.463146</td>\n",
       "    </tr>\n",
       "    <tr>\n",
       "      <th>6</th>\n",
       "      <td>10</td>\n",
       "      <td>694.526062</td>\n",
       "    </tr>\n",
       "    <tr>\n",
       "      <th>7</th>\n",
       "      <td>11</td>\n",
       "      <td>621.270232</td>\n",
       "    </tr>\n",
       "  </tbody>\n",
       "</table>\n",
       "</div>"
      ],
      "text/plain": [
       "   month        time\n",
       "0      4  725.507038\n",
       "1      5  799.120665\n",
       "2      6  832.965529\n",
       "3      7  822.120384\n",
       "4      8  835.319281\n",
       "5      9  761.463146\n",
       "6     10  694.526062\n",
       "7     11  621.270232"
      ]
     },
     "execution_count": 14,
     "metadata": {},
     "output_type": "execute_result"
    },
    {
     "name": "stdout",
     "output_type": "stream",
     "text": [
      "time: 4min 11s (started: 2021-08-07 19:04:38 +02:00)\n"
     ]
    }
   ],
   "source": [
    "durationsDF = pd.DataFrame(durations.toPandas(), columns=['month', 'time'])\n",
    "#durationsDF['ts'] = durationsDF[\"date\"].astype(\"datetime64\")\n",
    "durationsDF.head(10)\n",
    "\n",
    "\n",
    "# durationsDF.plot.hist(y='ts', x='time')"
   ]
  },
  {
   "cell_type": "markdown",
   "metadata": {},
   "source": [
    "## Histograma de tiempos de viaje para un año dado"
   ]
  },
  {
   "cell_type": "code",
   "execution_count": 15,
   "metadata": {},
   "outputs": [
    {
     "data": {
      "image/png": "[encoded data removed]",
      "text/plain": [
       "<Figure size 1440x360 with 1 Axes>"
      ]
     },
     "metadata": {
      "needs_background": "light"
     },
     "output_type": "display_data"
    },
    {
     "name": "stdout",
     "output_type": "stream",
     "text": [
      "time: 231 ms (started: 2021-08-07 19:08:49 +02:00)\n"
     ]
    }
   ],
   "source": [
    "fig, ax = plt.subplots(figsize=(20, 5))\n",
    "\n",
    "durations_plot = durationsDF.plot(kind=\"bar\",ax=ax)"
   ]
  },
  {
   "cell_type": "code",
   "execution_count": null,
   "metadata": {},
   "outputs": [],
   "source": []
  },
  {
   "cell_type": "markdown",
   "metadata": {},
   "source": [
    "## Listado del Top N de estaciones más utilizadas para un año dado"
   ]
  },
  {
   "cell_type": "markdown",
   "metadata": {},
   "source": [
    "### Estaciones de salida"
   ]
  },
  {
   "cell_type": "code",
   "execution_count": 16,
   "metadata": {},
   "outputs": [
    {
     "data": {
      "text/html": [
       "<div>\n",
       "<style scoped>\n",
       "    .dataframe tbody tr th:only-of-type {\n",
       "        vertical-align: middle;\n",
       "    }\n",
       "\n",
       "    .dataframe tbody tr th {\n",
       "        vertical-align: top;\n",
       "    }\n",
       "\n",
       "    .dataframe thead th {\n",
       "        text-align: right;\n",
       "    }\n",
       "</style>\n",
       "<table border=\"1\" class=\"dataframe\">\n",
       "  <thead>\n",
       "    <tr style=\"text-align: right;\">\n",
       "      <th></th>\n",
       "      <th>use</th>\n",
       "      <th>start_station_code</th>\n",
       "    </tr>\n",
       "  </thead>\n",
       "  <tbody>\n",
       "    <tr>\n",
       "      <th>0</th>\n",
       "      <td>45600</td>\n",
       "      <td>6184</td>\n",
       "    </tr>\n",
       "    <tr>\n",
       "      <th>1</th>\n",
       "      <td>33241</td>\n",
       "      <td>6078</td>\n",
       "    </tr>\n",
       "    <tr>\n",
       "      <th>2</th>\n",
       "      <td>32055</td>\n",
       "      <td>6064</td>\n",
       "    </tr>\n",
       "    <tr>\n",
       "      <th>3</th>\n",
       "      <td>28224</td>\n",
       "      <td>6214</td>\n",
       "    </tr>\n",
       "    <tr>\n",
       "      <th>4</th>\n",
       "      <td>27072</td>\n",
       "      <td>6100</td>\n",
       "    </tr>\n",
       "  </tbody>\n",
       "</table>\n",
       "</div>"
      ],
      "text/plain": [
       "     use start_station_code\n",
       "0  45600               6184\n",
       "1  33241               6078\n",
       "2  32055               6064\n",
       "3  28224               6214\n",
       "4  27072               6100"
      ]
     },
     "execution_count": 16,
     "metadata": {},
     "output_type": "execute_result"
    },
    {
     "name": "stdout",
     "output_type": "stream",
     "text": [
      "time: 4min 12s (started: 2021-08-07 19:08:49 +02:00)\n"
     ]
    }
   ],
   "source": [
    "top_stations_departure = sqlContext.sql('SELECT count(_c0) as use, start_station_code \\\n",
    "                                        FROM metyis_bixi_travels \\\n",
    "                                        WHERE year(start_date) = {} \\\n",
    "                                        GROUP BY start_station_code \\\n",
    "                                        ORDER BY use DESC'\\\n",
    "                                        .format(year))\n",
    "\n",
    "top_stations_departureDF = pd.DataFrame(top_stations_departure.toPandas(), columns=['use', 'start_station_code'])\n",
    "top_stations_departureDF.head(5)"
   ]
  },
  {
   "cell_type": "markdown",
   "metadata": {},
   "source": [
    "### Estaciones de llegada"
   ]
  },
  {
   "cell_type": "code",
   "execution_count": 17,
   "metadata": {},
   "outputs": [
    {
     "data": {
      "text/html": [
       "<div>\n",
       "<style scoped>\n",
       "    .dataframe tbody tr th:only-of-type {\n",
       "        vertical-align: middle;\n",
       "    }\n",
       "\n",
       "    .dataframe tbody tr th {\n",
       "        vertical-align: top;\n",
       "    }\n",
       "\n",
       "    .dataframe thead th {\n",
       "        text-align: right;\n",
       "    }\n",
       "</style>\n",
       "<table border=\"1\" class=\"dataframe\">\n",
       "  <thead>\n",
       "    <tr style=\"text-align: right;\">\n",
       "      <th></th>\n",
       "      <th>use</th>\n",
       "      <th>end_station_code</th>\n",
       "    </tr>\n",
       "  </thead>\n",
       "  <tbody>\n",
       "    <tr>\n",
       "      <th>0</th>\n",
       "      <td>43765</td>\n",
       "      <td>6184</td>\n",
       "    </tr>\n",
       "    <tr>\n",
       "      <th>1</th>\n",
       "      <td>39310</td>\n",
       "      <td>6078</td>\n",
       "    </tr>\n",
       "    <tr>\n",
       "      <th>2</th>\n",
       "      <td>34819</td>\n",
       "      <td>6064</td>\n",
       "    </tr>\n",
       "    <tr>\n",
       "      <th>3</th>\n",
       "      <td>34664</td>\n",
       "      <td>6012</td>\n",
       "    </tr>\n",
       "    <tr>\n",
       "      <th>4</th>\n",
       "      <td>31664</td>\n",
       "      <td>6015</td>\n",
       "    </tr>\n",
       "  </tbody>\n",
       "</table>\n",
       "</div>"
      ],
      "text/plain": [
       "     use end_station_code\n",
       "0  43765             6184\n",
       "1  39310             6078\n",
       "2  34819             6064\n",
       "3  34664             6012\n",
       "4  31664             6015"
      ]
     },
     "execution_count": 17,
     "metadata": {},
     "output_type": "execute_result"
    },
    {
     "name": "stdout",
     "output_type": "stream",
     "text": [
      "time: 4min 15s (started: 2021-08-07 19:13:02 +02:00)\n"
     ]
    }
   ],
   "source": [
    "top_stations_arrival = sqlContext.sql('SELECT count(_c0) as use, end_station_code \\\n",
    "                                        FROM metyis_bixi_travels \\\n",
    "                                        WHERE year(start_date) = {} \\\n",
    "                                        GROUP BY end_station_code \\\n",
    "                                        ORDER BY use DESC'\\\n",
    "                                        .format(year))\n",
    "\n",
    "top_stations_arrivalDF = pd.DataFrame(top_stations_arrival.toPandas(), columns=['use', 'end_station_code'])\n",
    "top_stations_arrivalDF.head(5)"
   ]
  },
  {
   "cell_type": "markdown",
   "metadata": {},
   "source": [
    "### En general"
   ]
  },
  {
   "cell_type": "code",
   "execution_count": 18,
   "metadata": {},
   "outputs": [
    {
     "data": {
      "text/html": [
       "<div>\n",
       "<style scoped>\n",
       "    .dataframe tbody tr th:only-of-type {\n",
       "        vertical-align: middle;\n",
       "    }\n",
       "\n",
       "    .dataframe tbody tr th {\n",
       "        vertical-align: top;\n",
       "    }\n",
       "\n",
       "    .dataframe thead th {\n",
       "        text-align: right;\n",
       "    }\n",
       "</style>\n",
       "<table border=\"1\" class=\"dataframe\">\n",
       "  <thead>\n",
       "    <tr style=\"text-align: right;\">\n",
       "      <th></th>\n",
       "      <th>use</th>\n",
       "      <th>start_station_code</th>\n",
       "    </tr>\n",
       "  </thead>\n",
       "  <tbody>\n",
       "    <tr>\n",
       "      <th>0</th>\n",
       "      <td>45600</td>\n",
       "      <td>6184</td>\n",
       "    </tr>\n",
       "    <tr>\n",
       "      <th>1</th>\n",
       "      <td>33241</td>\n",
       "      <td>6078</td>\n",
       "    </tr>\n",
       "    <tr>\n",
       "      <th>2</th>\n",
       "      <td>32055</td>\n",
       "      <td>6064</td>\n",
       "    </tr>\n",
       "    <tr>\n",
       "      <th>3</th>\n",
       "      <td>28224</td>\n",
       "      <td>6214</td>\n",
       "    </tr>\n",
       "    <tr>\n",
       "      <th>4</th>\n",
       "      <td>27072</td>\n",
       "      <td>6100</td>\n",
       "    </tr>\n",
       "    <tr>\n",
       "      <th>...</th>\n",
       "      <td>...</td>\n",
       "      <td>...</td>\n",
       "    </tr>\n",
       "    <tr>\n",
       "      <th>454</th>\n",
       "      <td>187</td>\n",
       "      <td>5004</td>\n",
       "    </tr>\n",
       "    <tr>\n",
       "      <th>455</th>\n",
       "      <td>162</td>\n",
       "      <td>6750</td>\n",
       "    </tr>\n",
       "    <tr>\n",
       "      <th>456</th>\n",
       "      <td>24</td>\n",
       "      <td>6928</td>\n",
       "    </tr>\n",
       "    <tr>\n",
       "      <th>457</th>\n",
       "      <td>22</td>\n",
       "      <td>6240</td>\n",
       "    </tr>\n",
       "    <tr>\n",
       "      <th>458</th>\n",
       "      <td>8</td>\n",
       "      <td>6005</td>\n",
       "    </tr>\n",
       "  </tbody>\n",
       "</table>\n",
       "<p>459 rows × 2 columns</p>\n",
       "</div>"
      ],
      "text/plain": [
       "       use start_station_code\n",
       "0    45600               6184\n",
       "1    33241               6078\n",
       "2    32055               6064\n",
       "3    28224               6214\n",
       "4    27072               6100\n",
       "..     ...                ...\n",
       "454    187               5004\n",
       "455    162               6750\n",
       "456     24               6928\n",
       "457     22               6240\n",
       "458      8               6005\n",
       "\n",
       "[459 rows x 2 columns]"
      ]
     },
     "execution_count": 18,
     "metadata": {},
     "output_type": "execute_result"
    },
    {
     "name": "stdout",
     "output_type": "stream",
     "text": [
      "time: 6.19 ms (started: 2021-08-07 19:17:17 +02:00)\n"
     ]
    }
   ],
   "source": [
    "top_stations_departureDF"
   ]
  },
  {
   "cell_type": "code",
   "execution_count": 19,
   "metadata": {},
   "outputs": [
    {
     "data": {
      "text/html": [
       "<div>\n",
       "<style scoped>\n",
       "    .dataframe tbody tr th:only-of-type {\n",
       "        vertical-align: middle;\n",
       "    }\n",
       "\n",
       "    .dataframe tbody tr th {\n",
       "        vertical-align: top;\n",
       "    }\n",
       "\n",
       "    .dataframe thead th {\n",
       "        text-align: right;\n",
       "    }\n",
       "</style>\n",
       "<table border=\"1\" class=\"dataframe\">\n",
       "  <thead>\n",
       "    <tr style=\"text-align: right;\">\n",
       "      <th></th>\n",
       "      <th>start_station_code</th>\n",
       "      <th>total_use</th>\n",
       "    </tr>\n",
       "  </thead>\n",
       "  <tbody>\n",
       "    <tr>\n",
       "      <th>0</th>\n",
       "      <td>6184</td>\n",
       "      <td>89365</td>\n",
       "    </tr>\n",
       "    <tr>\n",
       "      <th>1</th>\n",
       "      <td>6078</td>\n",
       "      <td>72551</td>\n",
       "    </tr>\n",
       "    <tr>\n",
       "      <th>2</th>\n",
       "      <td>6064</td>\n",
       "      <td>66874</td>\n",
       "    </tr>\n",
       "    <tr>\n",
       "      <th>3</th>\n",
       "      <td>6214</td>\n",
       "      <td>47838</td>\n",
       "    </tr>\n",
       "    <tr>\n",
       "      <th>4</th>\n",
       "      <td>6100</td>\n",
       "      <td>53909</td>\n",
       "    </tr>\n",
       "  </tbody>\n",
       "</table>\n",
       "</div>"
      ],
      "text/plain": [
       "  start_station_code  total_use\n",
       "0               6184      89365\n",
       "1               6078      72551\n",
       "2               6064      66874\n",
       "3               6214      47838\n",
       "4               6100      53909"
      ]
     },
     "execution_count": 19,
     "metadata": {},
     "output_type": "execute_result"
    },
    {
     "name": "stdout",
     "output_type": "stream",
     "text": [
      "time: 23.5 ms (started: 2021-08-07 19:17:17 +02:00)\n"
     ]
    }
   ],
   "source": [
    "top_stations = pd.merge(top_stations_departureDF,\n",
    "                        top_stations_arrivalDF, \n",
    "                        left_on = ['start_station_code'], \n",
    "                        right_on = ['end_station_code'], \n",
    "                        how='outer')\n",
    "\n",
    "top_stations['total_use'] = top_stations['use_x']+top_stations['use_y']\n",
    "top_stations[['start_station_code','total_use']].head(5)"
   ]
  },
  {
   "cell_type": "code",
   "execution_count": null,
   "metadata": {},
   "outputs": [],
   "source": []
  },
  {
   "cell_type": "markdown",
   "metadata": {},
   "source": [
    "## Viajes"
   ]
  },
  {
   "cell_type": "code",
   "execution_count": null,
   "metadata": {},
   "outputs": [],
   "source": [
    "top_travels = sqlContext.sql('SELECT count(_c0) as use, start_station_code, end_station_code \\\n",
    "                                        FROM metyis_bixi_travels \\\n",
    "                                        WHERE year(start_date) = {} \\\n",
    "                                        GROUP BY start_station_code, end_station_code \\\n",
    "                                        ORDER BY use DESC'\\\n",
    "                                        .format(year))\n",
    "\n",
    "top_travelsDF = pd.DataFrame(top_travels.toPandas(), columns=['use', 'start_station_code', 'end_station_code'])\n",
    "top_travelsDF.head(5)"
   ]
  },
  {
   "cell_type": "code",
   "execution_count": null,
   "metadata": {},
   "outputs": [],
   "source": []
  },
  {
   "cell_type": "code",
   "execution_count": null,
   "metadata": {},
   "outputs": [],
   "source": []
  },
  {
   "cell_type": "code",
   "execution_count": null,
   "metadata": {},
   "outputs": [],
   "source": [
    "rush = sqlContext.sql('SELECT count(_c0) use, dayofweek(start_date) dow, date_format(start_date, \"HH\") as hour \\\n",
    "                                        FROM metyis_bixi_travels \\\n",
    "                                        WHERE year(start_date) = {} \\\n",
    "                                        GROUP BY dow, hour \\\n",
    "                                        ORDER BY use DESC'\\\n",
    "                                        .format(year))\n",
    "\n",
    "rushDF = pd.DataFrame(rush.toPandas(), columns = ['use', 'dow', 'hour'])\n",
    "rushDF.head(5)"
   ]
  },
  {
   "cell_type": "code",
   "execution_count": null,
   "metadata": {},
   "outputs": [],
   "source": [
    "import seaborn as sns\n",
    "rushDF.hour = rushDF.hour.astype(\"int32\")\n",
    "rushDF.head()\n",
    "\n",
    "rush_result = rushDF.pivot(index='hour', columns='dow', values='use')\n",
    "\n",
    "\n",
    "fig, ax = plt.subplots(figsize=(20, 10))\n",
    "sns.heatmap(rush_result, annot=True, fmt=\"g\", cmap='viridis')\n",
    "plt.show()"
   ]
  },
  {
   "cell_type": "markdown",
   "metadata": {},
   "source": [
    " "
   ]
  },
  {
   "cell_type": "markdown",
   "metadata": {},
   "source": [
    " "
   ]
  },
  {
   "cell_type": "markdown",
   "metadata": {},
   "source": [
    " "
   ]
  },
  {
   "cell_type": "markdown",
   "metadata": {},
   "source": [
    "# Deseables"
   ]
  },
  {
   "cell_type": "code",
   "execution_count": 20,
   "metadata": {},
   "outputs": [
    {
     "name": "stdout",
     "output_type": "stream",
     "text": [
      "time: 444 µs (started: 2021-08-07 19:17:17 +02:00)\n"
     ]
    }
   ],
   "source": [
    "year_1 = 2014\n",
    "year_2 = 2016"
   ]
  },
  {
   "cell_type": "code",
   "execution_count": 21,
   "metadata": {},
   "outputs": [
    {
     "name": "stdout",
     "output_type": "stream",
     "text": [
      "time: 420 µs (started: 2021-08-07 19:17:17 +02:00)\n"
     ]
    }
   ],
   "source": [
    "assert year_1 < year_2, \"First year must be before than the second\""
   ]
  },
  {
   "cell_type": "code",
   "execution_count": null,
   "metadata": {},
   "outputs": [],
   "source": []
  },
  {
   "cell_type": "code",
   "execution_count": 22,
   "metadata": {},
   "outputs": [
    {
     "data": {
      "text/plain": [
       "[Row(use=3136276, use_time=2476839795.0, n_stations=459, year=2014),\n",
       " Row(use=3443883, use_time=2836560122.0, n_stations=460, year=2015),\n",
       " Row(use=4000080, use_time=3350429096.0, n_stations=465, year=2016)]"
      ]
     },
     "execution_count": 22,
     "metadata": {},
     "output_type": "execute_result"
    },
    {
     "name": "stdout",
     "output_type": "stream",
     "text": [
      "time: 4min 32s (started: 2021-08-07 19:17:17 +02:00)\n"
     ]
    }
   ],
   "source": [
    "bixi_use = sqlContext.sql('SELECT \\\n",
    "        count(_c0) as use, sum(duration_sec) as use_time, COUNT(DISTINCT start_station_code) as n_stations, year(start_date) as year \\\n",
    "        FROM metyis_bixi_travels \\\n",
    "        WHERE year(start_date) >= {} \\\n",
    "        AND year(start_date) <= {} \\\n",
    "        GROUP BY year \\\n",
    "        ORDER BY year'\\\n",
    "        .format(year_1, year_2))\n",
    "\n",
    "bixi_use.take(10)"
   ]
  },
  {
   "cell_type": "code",
   "execution_count": 30,
   "metadata": {},
   "outputs": [
    {
     "data": {
      "text/html": [
       "<div>\n",
       "<style scoped>\n",
       "    .dataframe tbody tr th:only-of-type {\n",
       "        vertical-align: middle;\n",
       "    }\n",
       "\n",
       "    .dataframe tbody tr th {\n",
       "        vertical-align: top;\n",
       "    }\n",
       "\n",
       "    .dataframe thead th {\n",
       "        text-align: right;\n",
       "    }\n",
       "</style>\n",
       "<table border=\"1\" class=\"dataframe\">\n",
       "  <thead>\n",
       "    <tr style=\"text-align: right;\">\n",
       "      <th></th>\n",
       "      <th>use</th>\n",
       "      <th>use_time</th>\n",
       "      <th>n_stations</th>\n",
       "      <th>year</th>\n",
       "      <th>use_station</th>\n",
       "    </tr>\n",
       "  </thead>\n",
       "  <tbody>\n",
       "    <tr>\n",
       "      <th>0</th>\n",
       "      <td>3136276</td>\n",
       "      <td>2.476840e+09</td>\n",
       "      <td>459</td>\n",
       "      <td>2014</td>\n",
       "      <td>6832.845316</td>\n",
       "    </tr>\n",
       "    <tr>\n",
       "      <th>1</th>\n",
       "      <td>3443883</td>\n",
       "      <td>2.836560e+09</td>\n",
       "      <td>460</td>\n",
       "      <td>2015</td>\n",
       "      <td>7486.702174</td>\n",
       "    </tr>\n",
       "    <tr>\n",
       "      <th>2</th>\n",
       "      <td>4000080</td>\n",
       "      <td>3.350429e+09</td>\n",
       "      <td>465</td>\n",
       "      <td>2016</td>\n",
       "      <td>8602.322581</td>\n",
       "    </tr>\n",
       "  </tbody>\n",
       "</table>\n",
       "</div>"
      ],
      "text/plain": [
       "       use      use_time  n_stations  year  use_station\n",
       "0  3136276  2.476840e+09         459  2014  6832.845316\n",
       "1  3443883  2.836560e+09         460  2015  7486.702174\n",
       "2  4000080  3.350429e+09         465  2016  8602.322581"
      ]
     },
     "execution_count": 30,
     "metadata": {},
     "output_type": "execute_result"
    },
    {
     "name": "stdout",
     "output_type": "stream",
     "text": [
      "time: 45.3 ms (started: 2021-08-07 19:30:28 +02:00)\n"
     ]
    }
   ],
   "source": [
    "bixi_useDF = pd.DataFrame(bixi_use.toPandas(), columns = ['use', 'use_time', 'n_stations', 'year'])\n",
    "bixi_useDF['use_station'] = bixi_useDF.use/bixi_useDF.n_stations\n",
    "bixi_useDF.head()"
   ]
  },
  {
   "cell_type": "raw",
   "metadata": {},
   "source": [
    "bixi_bikes = sqlContext.sql('SELECT s, n, la, lo, da, ba \\\n",
    "                           FROM bixi_stations \\\n",
    "                            WHERE year(start_date) >= {} \\\n",
    "                            AND year(start_date) <= {} ')\n",
    "bixi_bikes.take(10)"
   ]
  },
  {
   "cell_type": "raw",
   "metadata": {},
   "source": [
    "bixi_bikesDF = pd.DataFrame(bixi_bikes.toPandas(), columns = ['s','n','la','lo','da','ba'])\n",
    "bixi_bikesDF.head()"
   ]
  },
  {
   "cell_type": "raw",
   "metadata": {},
   "source": [
    "travels_bike = pd.merge(top_stations_departureDF, bixi_bikesDF, left_on=['_c0'], right_on=['n'])\n",
    "travels_bike.head(5)"
   ]
  },
  {
   "cell_type": "code",
   "execution_count": null,
   "metadata": {},
   "outputs": [],
   "source": []
  },
  {
   "cell_type": "code",
   "execution_count": 31,
   "metadata": {},
   "outputs": [
    {
     "data": {
      "text/plain": [
       "<matplotlib.legend.Legend at 0x7fc62f3b4d00>"
      ]
     },
     "execution_count": 31,
     "metadata": {},
     "output_type": "execute_result"
    },
    {
     "data": {
      "image/png": "[encoded data removed]",
      "text/plain": [
       "<Figure size 1440x360 with 3 Axes>"
      ]
     },
     "metadata": {
      "needs_background": "light"
     },
     "output_type": "display_data"
    },
    {
     "name": "stdout",
     "output_type": "stream",
     "text": [
      "time: 315 ms (started: 2021-08-07 19:30:39 +02:00)\n"
     ]
    }
   ],
   "source": [
    "f, axes = plt.subplots(1, 3, figsize=(20,5))\n",
    "labels = bixi_useDF.year\n",
    "x = range(len(labels))\n",
    "\n",
    "plt.sca(axes[0])\n",
    "axes[0].ticklabel_format(style='plain')\n",
    "plt.plot(bixi_useDF.use, color = 'r', label = 'Número de viajes')\n",
    "plt.title('Cantidad de viajes totales')\n",
    "plt.xticks(x, labels)\n",
    "plt.ylabel('Viajes')\n",
    "plt.xlabel('Año', fontsize=8)\n",
    "plt.legend(loc=4, prop={'size': 10})\n",
    "\n",
    "plt.sca(axes[1])\n",
    "axes[1].ticklabel_format(style='plain')\n",
    "plt.plot(bixi_useDF.use_time, color = 'g', label = 'Tiempo de uso')\n",
    "plt.title('Tiempo total de uso')\n",
    "plt.xticks(x, labels)\n",
    "plt.ylabel('Tiempo')\n",
    "plt.xlabel('Año', fontsize=8)\n",
    "plt.legend(loc=4, prop={'size': 10})\n",
    "\n",
    "\n",
    "\n",
    "plt.sca(axes[2])\n",
    "axes[2].ticklabel_format(style='plain')\n",
    "plt.plot(bixi_useDF.use_station, color = 'b', label = 'Tiempo de uso')\n",
    "plt.title('Tiempo total de uso')\n",
    "plt.xticks(x, labels)\n",
    "plt.ylabel('Tiempo')\n",
    "plt.xlabel('Año', fontsize=8)\n",
    "plt.legend(loc=4, prop={'size': 10})\n"
   ]
  },
  {
   "cell_type": "code",
   "execution_count": null,
   "metadata": {},
   "outputs": [],
   "source": []
  },
  {
   "cell_type": "code",
   "execution_count": null,
   "metadata": {},
   "outputs": [],
   "source": []
  },
  {
   "cell_type": "code",
   "execution_count": null,
   "metadata": {},
   "outputs": [],
   "source": []
  },
  {
   "cell_type": "markdown",
   "metadata": {},
   "source": []
  },
  {
   "cell_type": "code",
   "execution_count": null,
   "metadata": {},
   "outputs": [],
   "source": []
  },
  {
   "cell_type": "code",
   "execution_count": null,
   "metadata": {},
   "outputs": [],
   "source": []
  },
  {
   "cell_type": "code",
   "execution_count": null,
   "metadata": {},
   "outputs": [],
   "source": []
  }
 ],
 "metadata": {
  "kernelspec": {
   "display_name": "Python 3",
   "language": "python",
   "name": "python3"
  },
  "language_info": {
   "codemirror_mode": {
    "name": "ipython",
    "version": 3
   },
   "file_extension": ".py",
   "mimetype": "text/x-python",
   "name": "python",
   "nbconvert_exporter": "python",
   "pygments_lexer": "ipython3",
   "version": "3.8.5"
  }
 },
 "nbformat": 4,
 "nbformat_minor": 4
}
