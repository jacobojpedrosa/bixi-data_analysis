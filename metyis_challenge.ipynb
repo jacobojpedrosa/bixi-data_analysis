{
 "cells": [
  {
   "cell_type": "code",
   "execution_count": 2,
   "metadata": {},
   "outputs": [],
   "source": [
    "import pyspark\n",
    "import os.path"
   ]
  },
  {
   "cell_type": "code",
   "execution_count": 3,
   "metadata": {},
   "outputs": [],
   "source": [
    "sc = pyspark.SparkContext(master=\"local[1]\",appName='metyis_challenge')"
   ]
  },
  {
   "cell_type": "code",
   "execution_count": 4,
   "metadata": {},
   "outputs": [],
   "source": [
    "from pyspark.sql import SQLContext\n",
    "sqlContext = SQLContext(sc)"
   ]
  },
  {
   "cell_type": "code",
   "execution_count": 5,
   "metadata": {},
   "outputs": [],
   "source": [
    "# Vamos a definir un schema personalizado para poder tratar las fechas convenientemente\n",
    "from pyspark.sql.types import *\n",
    "\n",
    "bixiSchema = StructType([ \\\n",
    "                StructField(\"_c0\", DoubleType(), True), \\\n",
    "                StructField(\"start_date\", DateType(), True), \\\n",
    "                StructField(\"start_station_code\", StringType(), True), \\\n",
    "                StructField(\"end_date\", DateType(), True), \\\n",
    "                StructField(\"end_station_code\", StringType(), True), \\\n",
    "                StructField(\"duration_sec\", DoubleType(), True), \\\n",
    "                StructField(\"is_member\", BooleanType(), True)])"
   ]
  },
  {
   "cell_type": "code",
   "execution_count": 35,
   "metadata": {},
   "outputs": [
    {
     "name": "stdout",
     "output_type": "stream",
     "text": [
      "3136276\n"
     ]
    },
    {
     "data": {
      "text/plain": [
       "[Row(_c0=0.0, start_date=datetime.date(2014, 4, 15), start_station_code='6209', end_date=datetime.date(2014, 4, 15), end_station_code='6436', duration_sec=1061.0, is_member=None),\n",
       " Row(_c0=1.0, start_date=datetime.date(2014, 4, 15), start_station_code='6214', end_date=datetime.date(2014, 4, 15), end_station_code='6248', duration_sec=615.0, is_member=None),\n",
       " Row(_c0=2.0, start_date=datetime.date(2014, 4, 15), start_station_code='6164', end_date=datetime.date(2014, 4, 15), end_station_code='6216', duration_sec=1031.0, is_member=None)]"
      ]
     },
     "execution_count": 35,
     "metadata": {},
     "output_type": "execute_result"
    }
   ],
   "source": [
    "bixiDF = sqlContext.read.format('csv').options(header='true', delimiter = ',') \\\n",
    "        .load('./data/OD_2014.csv', schema = bixiSchema)\n",
    "\n",
    "print(bixiDF.count())\n",
    "bixiDF.take(3)"
   ]
  },
  {
   "cell_type": "code",
   "execution_count": 36,
   "metadata": {},
   "outputs": [
    {
     "name": "stdout",
     "output_type": "stream",
     "text": [
      "+-------+-----------------+------------------+------------------+-----------------+\n",
      "|summary|              _c0|start_station_code|  end_station_code|     duration_sec|\n",
      "+-------+-----------------+------------------+------------------+-----------------+\n",
      "|  count|          3136276|           3136276|           3136276|          3136276|\n",
      "|   mean|        1568137.5|  6237.94442134557| 6231.226863643378|789.7391029998636|\n",
      "| stddev|905365.0407640373|273.04065261969197|281.75890464523695|627.6714220519676|\n",
      "|    min|              0.0|             10002|             10002|             61.0|\n",
      "|    max|        3136275.0|              6929|              6929|           7195.0|\n",
      "+-------+-----------------+------------------+------------------+-----------------+\n",
      "\n"
     ]
    }
   ],
   "source": [
    "bixiDF.describe().show()"
   ]
  },
  {
   "cell_type": "code",
   "execution_count": 37,
   "metadata": {},
   "outputs": [
    {
     "data": {
      "text/plain": [
       "DataFrame[_c0: double, start_date: date, start_station_code: string, end_date: date, end_station_code: string, duration_sec: double, is_member: boolean]"
      ]
     },
     "metadata": {},
     "output_type": "display_data"
    }
   ],
   "source": [
    "display(bixiDF)"
   ]
  },
  {
   "cell_type": "code",
   "execution_count": null,
   "metadata": {},
   "outputs": [],
   "source": []
  },
  {
   "cell_type": "code",
   "execution_count": 38,
   "metadata": {},
   "outputs": [],
   "source": [
    "year = '2014'"
   ]
  },
  {
   "cell_type": "code",
   "execution_count": 39,
   "metadata": {},
   "outputs": [],
   "source": [
    "sqlContext.sql('DROP TABLE IF EXISTS metyis_bixi_travels')\n",
    "sqlContext.registerDataFrameAsTable(bixiDF, 'metyis_bixi_travels')"
   ]
  },
  {
   "cell_type": "code",
   "execution_count": 40,
   "metadata": {},
   "outputs": [
    {
     "data": {
      "text/plain": [
       "[Row(month=4, sum(duration_sec)=2476839795.0)]"
      ]
     },
     "execution_count": 40,
     "metadata": {},
     "output_type": "execute_result"
    }
   ],
   "source": [
    "# durations = sqlContext.sql('SELECT min(month(start_date)) as month, sum(duration_sec) \\\n",
    "#        FROM metyis_bixi_travels')\n",
    "# durations.take(10)"
   ]
  },
  {
   "cell_type": "code",
   "execution_count": 76,
   "metadata": {},
   "outputs": [
    {
     "data": {
      "text/plain": [
       "[Row(date=4, time=725.5070383506983),\n",
       " Row(date=5, time=799.1206648493941),\n",
       " Row(date=6, time=832.9655290446372),\n",
       " Row(date=7, time=822.1203842262782),\n",
       " Row(date=8, time=835.3192805057653),\n",
       " Row(date=9, time=761.46314588154),\n",
       " Row(date=10, time=694.5260624800343),\n",
       " Row(date=11, time=621.2702324203495)]"
      ]
     },
     "execution_count": 76,
     "metadata": {},
     "output_type": "execute_result"
    }
   ],
   "source": [
    "durations = sqlContext.sql('SELECT \\\n",
    "        start_date as date, avg(duration_sec) as time \\\n",
    "        FROM metyis_bixi_travels \\\n",
    "        WHERE year(start_date) ={} \\\n",
    "        GROUP BY start_date \\\n",
    "        ORDER BY date'\\\n",
    "        .format(year))\n",
    "durations.take(10)"
   ]
  },
  {
   "cell_type": "code",
   "execution_count": 66,
   "metadata": {},
   "outputs": [
    {
     "data": {
      "text/html": [
       "<div>\n",
       "<style scoped>\n",
       "    .dataframe tbody tr th:only-of-type {\n",
       "        vertical-align: middle;\n",
       "    }\n",
       "\n",
       "    .dataframe tbody tr th {\n",
       "        vertical-align: top;\n",
       "    }\n",
       "\n",
       "    .dataframe thead th {\n",
       "        text-align: right;\n",
       "    }\n",
       "</style>\n",
       "<table border=\"1\" class=\"dataframe\">\n",
       "  <thead>\n",
       "    <tr style=\"text-align: right;\">\n",
       "      <th></th>\n",
       "      <th>date</th>\n",
       "      <th>time</th>\n",
       "    </tr>\n",
       "  </thead>\n",
       "  <tbody>\n",
       "    <tr>\n",
       "      <th>0</th>\n",
       "      <td>2014-04-15</td>\n",
       "      <td>625.173748</td>\n",
       "    </tr>\n",
       "    <tr>\n",
       "      <th>1</th>\n",
       "      <td>2014-04-16</td>\n",
       "      <td>632.188994</td>\n",
       "    </tr>\n",
       "    <tr>\n",
       "      <th>2</th>\n",
       "      <td>2014-04-17</td>\n",
       "      <td>679.465140</td>\n",
       "    </tr>\n",
       "    <tr>\n",
       "      <th>3</th>\n",
       "      <td>2014-04-18</td>\n",
       "      <td>723.642441</td>\n",
       "    </tr>\n",
       "    <tr>\n",
       "      <th>4</th>\n",
       "      <td>2014-04-19</td>\n",
       "      <td>862.890068</td>\n",
       "    </tr>\n",
       "  </tbody>\n",
       "</table>\n",
       "</div>"
      ],
      "text/plain": [
       "         date        time\n",
       "0  2014-04-15  625.173748\n",
       "1  2014-04-16  632.188994\n",
       "2  2014-04-17  679.465140\n",
       "3  2014-04-18  723.642441\n",
       "4  2014-04-19  862.890068"
      ]
     },
     "execution_count": 66,
     "metadata": {},
     "output_type": "execute_result"
    }
   ],
   "source": [
    "from matplotlib import pyplot as plt\n",
    "import pandas as pd\n",
    "\n",
    "durationsDF = pd.DataFrame(durations.toPandas(), columns=['date', 'time'])\n",
    "#durationsDF['ts'] = durationsDF[\"date\"].astype(\"datetime64\")\n",
    "durationsDF.head()\n",
    "\n",
    "\n",
    "# durationsDF.plot.hist(y='ts', x='time')"
   ]
  },
  {
   "cell_type": "code",
   "execution_count": 75,
   "metadata": {},
   "outputs": [
    {
     "data": {
      "image/png": "[encoded data removed]",
      "text/plain": [
       "<Figure size 3600x360 with 1 Axes>"
      ]
     },
     "metadata": {
      "needs_background": "light"
     },
     "output_type": "display_data"
    }
   ],
   "source": [
    "fig, ax = plt.subplots(figsize=(50, 5))\n",
    "\n",
    "durations_plot = durationsDF.plot(kind=\"bar\",ax=ax)\n"
   ]
  },
  {
   "cell_type": "code",
   "execution_count": null,
   "metadata": {},
   "outputs": [],
   "source": []
  },
  {
   "cell_type": "code",
   "execution_count": null,
   "metadata": {},
   "outputs": [],
   "source": []
  },
  {
   "cell_type": "code",
   "execution_count": null,
   "metadata": {},
   "outputs": [],
   "source": []
  },
  {
   "cell_type": "code",
   "execution_count": null,
   "metadata": {},
   "outputs": [],
   "source": []
  }
 ],
 "metadata": {
  "kernelspec": {
   "display_name": "Python 3",
   "language": "python",
   "name": "python3"
  },
  "language_info": {
   "codemirror_mode": {
    "name": "ipython",
    "version": 3
   },
   "file_extension": ".py",
   "mimetype": "text/x-python",
   "name": "python",
   "nbconvert_exporter": "python",
   "pygments_lexer": "ipython3",
   "version": "3.8.5"
  }
 },
 "nbformat": 4,
 "nbformat_minor": 4
}
