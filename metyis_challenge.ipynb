{
 "cells": [
  {
   "cell_type": "code",
   "execution_count": 2,
   "metadata": {},
   "outputs": [],
   "source": [
    "import pyspark\n",
    "import os.path"
   ]
  },
  {
   "cell_type": "code",
   "execution_count": 1,
   "metadata": {},
   "outputs": [],
   "source": [
    "sc = pyspark.SparkContext(master=\"local[1]\",appName='metyis_challenge')"
   ]
  },
  {
   "cell_type": "code",
   "execution_count": 4,
   "metadata": {},
   "outputs": [],
   "source": [
    "from pyspark.sql import SQLContext\n",
    "sqlContext = SQLContext(sc)"
   ]
  },
  {
   "cell_type": "code",
   "execution_count": 17,
   "metadata": {},
   "outputs": [
    {
     "name": "stdout",
     "output_type": "stream",
     "text": [
      "3136276\n"
     ]
    },
    {
     "data": {
      "text/plain": [
       "[Row(_c0='0', start_date='2014-04-15 00:01', start_station_code='6209', end_date='2014-04-15 00:18', end_station_code='6436', duration_sec='1061', is_member='1'),\n",
       " Row(_c0='1', start_date='2014-04-15 00:01', start_station_code='6214', end_date='2014-04-15 00:11', end_station_code='6248', duration_sec='615', is_member='1'),\n",
       " Row(_c0='2', start_date='2014-04-15 00:01', start_station_code='6164', end_date='2014-04-15 00:18', end_station_code='6216', duration_sec='1031', is_member='1')]"
      ]
     },
     "execution_count": 17,
     "metadata": {},
     "output_type": "execute_result"
    }
   ],
   "source": [
    "bixiDF = sqlContext.read.format('csv').options(header='true', inferscherma='true', delimiter = ',').load('./archive/OD_2014.csv')\n",
    "print(bixiDF.count())\n",
    "bixiDF.take(3)"
   ]
  },
  {
   "cell_type": "code",
   "execution_count": 18,
   "metadata": {},
   "outputs": [
    {
     "name": "stdout",
     "output_type": "stream",
     "text": [
      "+-------+-----------------+----------------+------------------+----------------+------------------+-----------------+-------------------+\n",
      "|summary|              _c0|      start_date|start_station_code|        end_date|  end_station_code|     duration_sec|          is_member|\n",
      "+-------+-----------------+----------------+------------------+----------------+------------------+-----------------+-------------------+\n",
      "|  count|          3136276|         3136276|           3136276|         3136276|           3136276|          3136276|            3136276|\n",
      "|   mean|        1568137.5|            null|  6237.94442134557|            null| 6231.226863643378|789.7391029998636| 0.8840902395069822|\n",
      "| stddev|905365.0407640373|            null|273.04065261969197|            null|281.75890464523695|627.6714220519676|0.32011672963074006|\n",
      "|    min|                0|2014-04-15 00:01|             10002|2014-04-15 00:08|             10002|              100|                  0|\n",
      "|    max|           999999|2014-11-15 23:58|              6929|2014-11-16 00:27|              6929|              999|                  1|\n",
      "+-------+-----------------+----------------+------------------+----------------+------------------+-----------------+-------------------+\n",
      "\n"
     ]
    }
   ],
   "source": [
    "bixiDF.describe().show()"
   ]
  },
  {
   "cell_type": "code",
   "execution_count": 22,
   "metadata": {},
   "outputs": [
    {
     "data": {
      "text/plain": [
       "DataFrame[_c0: string, start_date: string, start_station_code: string, end_date: string, end_station_code: string, duration_sec: string, is_member: string]"
      ]
     },
     "metadata": {},
     "output_type": "display_data"
    }
   ],
   "source": [
    "display(bixiDF)"
   ]
  },
  {
   "cell_type": "code",
   "execution_count": null,
   "metadata": {},
   "outputs": [],
   "source": []
  },
  {
   "cell_type": "code",
   "execution_count": 23,
   "metadata": {},
   "outputs": [],
   "source": [
    "year = '2014'"
   ]
  },
  {
   "cell_type": "code",
   "execution_count": 20,
   "metadata": {},
   "outputs": [],
   "source": [
    "sqlContext.sql('DROP TABLE IF EXISTS metyis_bixi_travels')\n",
    "sqlContext.registerDataFrameAsTable(bixiDF, 'metyis_bixi_travels')"
   ]
  },
  {
   "cell_type": "code",
   "execution_count": null,
   "metadata": {},
   "outputs": [],
   "source": []
  },
  {
   "cell_type": "code",
   "execution_count": null,
   "metadata": {},
   "outputs": [],
   "source": []
  },
  {
   "cell_type": "code",
   "execution_count": null,
   "metadata": {},
   "outputs": [],
   "source": []
  }
 ],
 "metadata": {
  "kernelspec": {
   "display_name": "Python 3",
   "language": "python",
   "name": "python3"
  },
  "language_info": {
   "codemirror_mode": {
    "name": "ipython",
    "version": 3
   },
   "file_extension": ".py",
   "mimetype": "text/x-python",
   "name": "python",
   "nbconvert_exporter": "python",
   "pygments_lexer": "ipython3",
   "version": "3.8.5"
  }
 },
 "nbformat": 4,
 "nbformat_minor": 4
}
